{
 "cells": [
  {
   "cell_type": "code",
   "execution_count": 1,
   "id": "b6b84e1d",
   "metadata": {},
   "outputs": [
    {
     "name": "stdout",
     "output_type": "stream",
     "text": [
      "Requirement already satisfied: langchain-openai in d:\\software\\miniconda\\miniconda24.5.0\\envs\\itatraining\\lib\\site-packages (0.1.16)\n",
      "Requirement already satisfied: langchain-core<0.3.0,>=0.2.17 in d:\\software\\miniconda\\miniconda24.5.0\\envs\\itatraining\\lib\\site-packages (from langchain-openai) (0.2.20)\n",
      "Requirement already satisfied: openai<2.0.0,>=1.32.0 in d:\\software\\miniconda\\miniconda24.5.0\\envs\\itatraining\\lib\\site-packages (from langchain-openai) (1.35.14)\n",
      "Requirement already satisfied: tiktoken<1,>=0.7 in d:\\software\\miniconda\\miniconda24.5.0\\envs\\itatraining\\lib\\site-packages (from langchain-openai) (0.7.0)\n",
      "Requirement already satisfied: PyYAML>=5.3 in d:\\software\\miniconda\\miniconda24.5.0\\envs\\itatraining\\lib\\site-packages (from langchain-core<0.3.0,>=0.2.17->langchain-openai) (6.0.1)\n",
      "Requirement already satisfied: jsonpatch<2.0,>=1.33 in d:\\software\\miniconda\\miniconda24.5.0\\envs\\itatraining\\lib\\site-packages (from langchain-core<0.3.0,>=0.2.17->langchain-openai) (1.33)\n",
      "Requirement already satisfied: langsmith<0.2.0,>=0.1.75 in d:\\software\\miniconda\\miniconda24.5.0\\envs\\itatraining\\lib\\site-packages (from langchain-core<0.3.0,>=0.2.17->langchain-openai) (0.1.88)\n",
      "Requirement already satisfied: packaging<25,>=23.2 in d:\\software\\miniconda\\miniconda24.5.0\\envs\\itatraining\\lib\\site-packages (from langchain-core<0.3.0,>=0.2.17->langchain-openai) (23.2)\n",
      "Requirement already satisfied: pydantic<3,>=1 in d:\\software\\miniconda\\miniconda24.5.0\\envs\\itatraining\\lib\\site-packages (from langchain-core<0.3.0,>=0.2.17->langchain-openai) (2.8.2)\n",
      "Requirement already satisfied: tenacity!=8.4.0,<9.0.0,>=8.1.0 in d:\\software\\miniconda\\miniconda24.5.0\\envs\\itatraining\\lib\\site-packages (from langchain-core<0.3.0,>=0.2.17->langchain-openai) (8.4.2)\n",
      "Requirement already satisfied: anyio<5,>=3.5.0 in d:\\software\\miniconda\\miniconda24.5.0\\envs\\itatraining\\lib\\site-packages (from openai<2.0.0,>=1.32.0->langchain-openai) (4.4.0)\n",
      "Requirement already satisfied: distro<2,>=1.7.0 in d:\\software\\miniconda\\miniconda24.5.0\\envs\\itatraining\\lib\\site-packages (from openai<2.0.0,>=1.32.0->langchain-openai) (1.9.0)\n",
      "Requirement already satisfied: httpx<1,>=0.23.0 in d:\\software\\miniconda\\miniconda24.5.0\\envs\\itatraining\\lib\\site-packages (from openai<2.0.0,>=1.32.0->langchain-openai) (0.27.0)\n",
      "Requirement already satisfied: sniffio in d:\\software\\miniconda\\miniconda24.5.0\\envs\\itatraining\\lib\\site-packages (from openai<2.0.0,>=1.32.0->langchain-openai) (1.3.1)\n",
      "Requirement already satisfied: tqdm>4 in d:\\software\\miniconda\\miniconda24.5.0\\envs\\itatraining\\lib\\site-packages (from openai<2.0.0,>=1.32.0->langchain-openai) (4.66.2)\n",
      "Requirement already satisfied: typing-extensions<5,>=4.7 in d:\\software\\miniconda\\miniconda24.5.0\\envs\\itatraining\\lib\\site-packages (from openai<2.0.0,>=1.32.0->langchain-openai) (4.12.2)\n",
      "Requirement already satisfied: regex>=2022.1.18 in d:\\software\\miniconda\\miniconda24.5.0\\envs\\itatraining\\lib\\site-packages (from tiktoken<1,>=0.7->langchain-openai) (2023.12.25)\n",
      "Requirement already satisfied: requests>=2.26.0 in d:\\software\\miniconda\\miniconda24.5.0\\envs\\itatraining\\lib\\site-packages (from tiktoken<1,>=0.7->langchain-openai) (2.31.0)\n",
      "Requirement already satisfied: idna>=2.8 in d:\\software\\miniconda\\miniconda24.5.0\\envs\\itatraining\\lib\\site-packages (from anyio<5,>=3.5.0->openai<2.0.0,>=1.32.0->langchain-openai) (3.6)\n",
      "Requirement already satisfied: exceptiongroup>=1.0.2 in d:\\software\\miniconda\\miniconda24.5.0\\envs\\itatraining\\lib\\site-packages (from anyio<5,>=3.5.0->openai<2.0.0,>=1.32.0->langchain-openai) (1.2.0)\n",
      "Requirement already satisfied: certifi in d:\\software\\miniconda\\miniconda24.5.0\\envs\\itatraining\\lib\\site-packages (from httpx<1,>=0.23.0->openai<2.0.0,>=1.32.0->langchain-openai) (2024.2.2)\n",
      "Requirement already satisfied: httpcore==1.* in d:\\software\\miniconda\\miniconda24.5.0\\envs\\itatraining\\lib\\site-packages (from httpx<1,>=0.23.0->openai<2.0.0,>=1.32.0->langchain-openai) (1.0.5)\n",
      "Requirement already satisfied: h11<0.15,>=0.13 in d:\\software\\miniconda\\miniconda24.5.0\\envs\\itatraining\\lib\\site-packages (from httpcore==1.*->httpx<1,>=0.23.0->openai<2.0.0,>=1.32.0->langchain-openai) (0.14.0)\n",
      "Requirement already satisfied: jsonpointer>=1.9 in d:\\software\\miniconda\\miniconda24.5.0\\envs\\itatraining\\lib\\site-packages (from jsonpatch<2.0,>=1.33->langchain-core<0.3.0,>=0.2.17->langchain-openai) (3.0.0)\n",
      "Requirement already satisfied: orjson<4.0.0,>=3.9.14 in d:\\software\\miniconda\\miniconda24.5.0\\envs\\itatraining\\lib\\site-packages (from langsmith<0.2.0,>=0.1.75->langchain-core<0.3.0,>=0.2.17->langchain-openai) (3.10.6)\n",
      "Requirement already satisfied: annotated-types>=0.4.0 in d:\\software\\miniconda\\miniconda24.5.0\\envs\\itatraining\\lib\\site-packages (from pydantic<3,>=1->langchain-core<0.3.0,>=0.2.17->langchain-openai) (0.7.0)\n",
      "Requirement already satisfied: pydantic-core==2.20.1 in d:\\software\\miniconda\\miniconda24.5.0\\envs\\itatraining\\lib\\site-packages (from pydantic<3,>=1->langchain-core<0.3.0,>=0.2.17->langchain-openai) (2.20.1)\n",
      "Requirement already satisfied: charset-normalizer<4,>=2 in d:\\software\\miniconda\\miniconda24.5.0\\envs\\itatraining\\lib\\site-packages (from requests>=2.26.0->tiktoken<1,>=0.7->langchain-openai) (3.3.2)\n",
      "Requirement already satisfied: urllib3<3,>=1.21.1 in d:\\software\\miniconda\\miniconda24.5.0\\envs\\itatraining\\lib\\site-packages (from requests>=2.26.0->tiktoken<1,>=0.7->langchain-openai) (1.26.18)\n",
      "Requirement already satisfied: colorama in d:\\software\\miniconda\\miniconda24.5.0\\envs\\itatraining\\lib\\site-packages (from tqdm>4->openai<2.0.0,>=1.32.0->langchain-openai) (0.4.6)\n"
     ]
    }
   ],
   "source": [
    "!pip install -U langchain-openai"
   ]
  },
  {
   "cell_type": "code",
   "execution_count": null,
   "id": "5e80b75d-3a4d-4066-955e-f49e9505ff07",
   "metadata": {},
   "outputs": [],
   "source": []
  },
  {
   "cell_type": "markdown",
   "id": "3e530afd",
   "metadata": {},
   "source": [
    "# LangChain 实战：房产销售聊天机器人"
   ]
  },
  {
   "cell_type": "markdown",
   "id": "1f7c8138",
   "metadata": {},
   "source": [
    "## 使用 GPT-4 构造销售话术数据\n",
    "\n",
    "ChatGPT 分享链接：https://chat.openai.com/share/f3e4b9b0-95fb-4c6a-a3c7-f901dd194c91\n",
    "\n",
    "\n",
    "使用 ChatGPT 构造销售数据的 Prompt 示例：\n",
    "\n",
    "```\n",
    "你是中国顶级的房地产销售，现在培训职场新人，请给出100条实用的销售话术。\n",
    "\n",
    "每条销售话术以如下格式给出：\n",
    "[客户问题]\n",
    "[销售回答]\n",
    "\n",
    "```\n",
    "\n",
    "GPT-4 回复结果：\n",
    "\n",
    "```\n",
    "在房地产销售行业中，精心准备的销售话术可以极大地提高成交率。以下是一些适用于中国房地产销售的实用话术：\n",
    "\n",
    "1.  \n",
    "[客户问题] 这个小区交通便利吗？\n",
    "[销售回答] 当然了，这个小区距离地铁站只有几分钟的步行距离，而且附近有多条公交线路，非常方便。\n",
    "\n",
    "2.  \n",
    "[客户问题] 我担心楼下太吵。\n",
    "[销售回答] 这个小区特别注重居住体验，我们有良好的隔音设计，并且小区内部规划了绿化区域，可以有效降低噪音。\n",
    "\n",
    "3.  \n",
    "[客户问题] 我看房价还在涨，这个投资回报怎么样？\n",
    "[销售回答] 这个区域未来有大量的商业和基础设施建设，所以从长期来看，投资回报非常有保证。\n",
    "\n",
    "4.  \n",
    "[客户问题] 有没有学校？\n",
    "[销售回答] 附近有多所优质的学校，非常适合有孩子的家庭。\n",
    "\n",
    "5.  \n",
    "[客户问题] 物业管理怎么样？\n",
    "[销售回答] 我们的物业管理得到了业主一致好评，服务非常到位。\n",
    "\n",
    "6.  \n",
    "[客户问题] 我想要南向的房子。\n",
    "[销售回答] 很好，我们确实有一些朝南的单位，它们的采光特别好。\n",
    "\n",
    "7.  \n",
    "[客户问题] 这个小区安全吗？\n",
    "[销售回答] 当然，我们24小时安保巡逻，还有先进的监控系统。\n",
    "\n",
    "8.  \n",
    "[客户问题] 预计什么时候交房？\n",
    "[销售回答] 根据目前的进度，我们预计将在明年底交房。\n",
    "\n",
    "9.  \n",
    "[客户问题] 我不想要一楼的房子。\n",
    "[销售回答] 我理解您的顾虑，我们还有多个楼层的房源可以选择。\n",
    "\n",
    "10.  \n",
    "[客户问题] 有优惠吗？\n",
    "[销售回答] 当然，如果您现在下订，我们可以给您一些优惠。\n",
    "```\n",
    "\n",
    "\n",
    "## 使用 Document Transformers 模块来处理原始数据\n",
    "\n",
    "\n",
    "将 ChatGPT 生成的结果保存到 [real_estate_sales_data.txt](real_estate_sales_data.txt) 文件中"
   ]
  },
  {
   "cell_type": "code",
   "execution_count": 2,
   "id": "99c0e067",
   "metadata": {},
   "outputs": [],
   "source": [
    "with open(\"fruit_sales_words.txt\",encoding='utf-8') as f:\n",
    "    real_estate_sales = f.read()"
   ]
  },
  {
   "cell_type": "markdown",
   "id": "5f2cd4d7",
   "metadata": {},
   "source": [
    "### 使用 CharacterTextSplitter 来进行文本分割\n",
    "\n",
    "- 基于单字符来进行文本分割（separator）\n",
    "- 基于字符数来决定文本块长度（chunk_size）\n",
    "\n",
    "参考示例：\n",
    "\n",
    "```python\n",
    "from langchain.text_splitter import CharacterTextSplitter\n",
    "text_splitter = CharacterTextSplitter(        \n",
    "    separator = \"\\n\\n\",\n",
    "    chunk_size = 1000,\n",
    "    chunk_overlap  = 200,\n",
    "    length_function = len,\n",
    "    is_separator_regex = False,\n",
    ")\n",
    "```\n"
   ]
  },
  {
   "cell_type": "code",
   "execution_count": 3,
   "id": "03e6ef07",
   "metadata": {},
   "outputs": [],
   "source": [
    "from langchain.text_splitter import CharacterTextSplitter"
   ]
  },
  {
   "cell_type": "code",
   "execution_count": 4,
   "id": "acfe5966",
   "metadata": {},
   "outputs": [],
   "source": [
    "text_splitter = CharacterTextSplitter(        \n",
    "    separator = r'\\d+\\.',\n",
    "    chunk_size = 100,\n",
    "    chunk_overlap  = 0,\n",
    "    length_function = len,\n",
    "    is_separator_regex = True,\n",
    ")"
   ]
  },
  {
   "cell_type": "code",
   "execution_count": 5,
   "id": "7385ac66",
   "metadata": {},
   "outputs": [
    {
     "name": "stderr",
     "output_type": "stream",
     "text": [
      "Created a chunk of size 104, which is longer than the specified 100\n",
      "Created a chunk of size 101, which is longer than the specified 100\n",
      "Created a chunk of size 102, which is longer than the specified 100\n"
     ]
    }
   ],
   "source": [
    "docs = text_splitter.create_documents([real_estate_sales])"
   ]
  },
  {
   "cell_type": "code",
   "execution_count": 6,
   "id": "7713be54",
   "metadata": {},
   "outputs": [
    {
     "data": {
      "text/plain": [
       "Document(page_content='**[客户问题]**：你们的水果为什么比别家的贵？\\n   **[销售回答]**：我们的水果都是精选自优质产地，保证新鲜和高品质。而且我们的运输和储存条件都是最好的，所以口感和营养价值都非常高，物有所值。')"
      ]
     },
     "execution_count": 6,
     "metadata": {},
     "output_type": "execute_result"
    }
   ],
   "source": [
    "docs[0]"
   ]
  },
  {
   "cell_type": "code",
   "execution_count": 7,
   "id": "3841bb10",
   "metadata": {},
   "outputs": [
    {
     "data": {
      "text/plain": [
       "37"
      ]
     },
     "execution_count": 7,
     "metadata": {},
     "output_type": "execute_result"
    }
   ],
   "source": [
    "len(docs)"
   ]
  },
  {
   "cell_type": "code",
   "execution_count": 8,
   "id": "c8f1f47a-a257-4fb6-a5b1-d66d5c69feb8",
   "metadata": {},
   "outputs": [
    {
     "name": "stdout",
     "output_type": "stream",
     "text": [
      "sk-proj-3qMKwHdieh8eXSmtEajbT3BlbkFJGMcnkLA9dUVxRf4g0seS\n"
     ]
    }
   ],
   "source": [
    "import os\n",
    "\n",
    "os.environ['HTTP_PROXY'] = 'http://127.0.0.1:10810'\n",
    "os.environ['HTTPS_PROXY'] = 'http://127.0.0.1:10810'\n",
    "print(os.environ.get(\"OPENAI_API_KEY\"));"
   ]
  },
  {
   "cell_type": "markdown",
   "id": "ba9ca5d2",
   "metadata": {},
   "source": [
    "### 使用 Faiss 作为向量数据库，持久化存储房产销售 问答对（QA-Pair）"
   ]
  },
  {
   "cell_type": "code",
   "execution_count": 9,
   "id": "558cd8ef",
   "metadata": {},
   "outputs": [
    {
     "name": "stderr",
     "output_type": "stream",
     "text": [
      "D:\\software\\Miniconda\\Miniconda24.5.0\\envs\\ITATraining\\lib\\site-packages\\langchain_core\\_api\\deprecation.py:139: LangChainDeprecationWarning: The class `OpenAIEmbeddings` was deprecated in LangChain 0.0.9 and will be removed in 0.3.0. An updated version of the class exists in the langchain-openai package and should be used instead. To use it run `pip install -U langchain-openai` and import as `from langchain_openai import OpenAIEmbeddings`.\n",
      "  warn_deprecated(\n"
     ]
    }
   ],
   "source": [
    "from langchain.embeddings.openai import OpenAIEmbeddings\n",
    "from langchain.text_splitter import CharacterTextSplitter\n",
    "from langchain.vectorstores import FAISS\n",
    "\n",
    "db = FAISS.from_documents(docs, OpenAIEmbeddings())"
   ]
  },
  {
   "cell_type": "code",
   "execution_count": 10,
   "id": "12c9c1c9",
   "metadata": {},
   "outputs": [],
   "source": [
    "query = \"水果哪个好吃？\""
   ]
  },
  {
   "cell_type": "code",
   "execution_count": 11,
   "id": "def9295d",
   "metadata": {},
   "outputs": [],
   "source": [
    "answer_list = db.similarity_search(query)"
   ]
  },
  {
   "cell_type": "code",
   "execution_count": 12,
   "id": "b39dbba2",
   "metadata": {},
   "outputs": [
    {
     "name": "stdout",
     "output_type": "stream",
     "text": [
      "**[客户问题]**：这个水果怎么吃比较好？\n",
      "   **[销售回答]**：您可以直接食用，也可以榨汁、做水果沙拉或者加入酸奶中，都是非常不错的选择。如果您需要食谱，可以向我们咨询。\n",
      "\n",
      "**[客户问题]**：这些水果怎么挑选比较好？\n",
      "    **[销售回答]**：我们可以帮您挑选最好的水果，您也可以根据水果的颜色、形状和气味来判断，具体方法我们可以为您详细介绍。\n",
      "\n",
      "**[客户问题]**：这个水果适合小孩吃吗？\n",
      "   **[销售回答]**：我们这个水果营养丰富、口感好，非常适合小孩食用，补充维生素和纤维，有助于孩子的健康成长。\n",
      "\n",
      "**[客户问题]**：这个水果的口感怎么样？\n",
      "    **[销售回答]**：这个水果的口感非常好，甜而不腻，汁水丰富，非常适合直接食用。\n",
      "\n"
     ]
    }
   ],
   "source": [
    "for ans in answer_list:\n",
    "    print(ans.page_content + \"\\n\")"
   ]
  },
  {
   "cell_type": "code",
   "execution_count": 13,
   "id": "ac220d7a",
   "metadata": {},
   "outputs": [],
   "source": [
    "db.save_local(\"real_estates_sale\")"
   ]
  },
  {
   "cell_type": "markdown",
   "id": "af1d0d3e",
   "metadata": {},
   "source": [
    "### 使用 retriever 从向量数据库中获取结果\n",
    "\n",
    "#### 使用参数 `k` 指定返回结果数量\n"
   ]
  },
  {
   "cell_type": "code",
   "execution_count": 14,
   "id": "8b468839",
   "metadata": {},
   "outputs": [],
   "source": [
    "# 实例化一个 TopK Retriever\n",
    "topK_retriever = db.as_retriever(search_kwargs={\"k\": 2})"
   ]
  },
  {
   "cell_type": "code",
   "execution_count": 15,
   "id": "67513661",
   "metadata": {},
   "outputs": [
    {
     "data": {
      "text/plain": [
       "VectorStoreRetriever(tags=['FAISS', 'OpenAIEmbeddings'], vectorstore=<langchain_community.vectorstores.faiss.FAISS object at 0x0000022D492E1E70>, search_kwargs={'k': 2})"
      ]
     },
     "execution_count": 15,
     "metadata": {},
     "output_type": "execute_result"
    }
   ],
   "source": [
    "topK_retriever"
   ]
  },
  {
   "cell_type": "code",
   "execution_count": 16,
   "id": "0b4c0ca6",
   "metadata": {},
   "outputs": [
    {
     "name": "stderr",
     "output_type": "stream",
     "text": [
      "D:\\software\\Miniconda\\Miniconda24.5.0\\envs\\ITATraining\\lib\\site-packages\\langchain_core\\_api\\deprecation.py:139: LangChainDeprecationWarning: The method `BaseRetriever.get_relevant_documents` was deprecated in langchain-core 0.1.46 and will be removed in 0.3.0. Use invoke instead.\n",
      "  warn_deprecated(\n"
     ]
    },
    {
     "name": "stdout",
     "output_type": "stream",
     "text": [
      "**[客户问题]**：这个水果怎么吃比较好？\n",
      "   **[销售回答]**：您可以直接食用，也可以榨汁、做水果沙拉或者加入酸奶中，都是非常不错的选择。如果您需要食谱，可以向我们咨询。\n",
      "\n",
      "**[客户问题]**：这些水果怎么挑选比较好？\n",
      "    **[销售回答]**：我们可以帮您挑选最好的水果，您也可以根据水果的颜色、形状和气味来判断，具体方法我们可以为您详细介绍。\n",
      "\n"
     ]
    }
   ],
   "source": [
    "docs = topK_retriever.get_relevant_documents(query)\n",
    "for doc in docs:\n",
    "    print(doc.page_content + \"\\n\")"
   ]
  },
  {
   "cell_type": "code",
   "execution_count": 17,
   "id": "9ae8b9de",
   "metadata": {},
   "outputs": [],
   "source": [
    "docs = topK_retriever.get_relevant_documents(\"凤梨和菠萝哪个更好吃。\")"
   ]
  },
  {
   "cell_type": "code",
   "execution_count": 18,
   "id": "bb910018",
   "metadata": {},
   "outputs": [
    {
     "name": "stdout",
     "output_type": "stream",
     "text": [
      "**[客户问题]**：这个水果怎么吃比较好？\n",
      "   **[销售回答]**：您可以直接食用，也可以榨汁、做水果沙拉或者加入酸奶中，都是非常不错的选择。如果您需要食谱，可以向我们咨询。\n",
      "\n",
      "**[客户问题]**：这些水果怎么挑选比较好？\n",
      "    **[销售回答]**：我们可以帮您挑选最好的水果，您也可以根据水果的颜色、形状和气味来判断，具体方法我们可以为您详细介绍。\n",
      "\n"
     ]
    }
   ],
   "source": [
    "for doc in docs:\n",
    "    print(doc.page_content + \"\\n\")"
   ]
  },
  {
   "cell_type": "markdown",
   "id": "5f45c0db",
   "metadata": {},
   "source": [
    "#### 使用 similarity_score_threshold 设置阈值，提升结果的相关性质量"
   ]
  },
  {
   "cell_type": "code",
   "execution_count": 19,
   "id": "dee59132",
   "metadata": {},
   "outputs": [],
   "source": [
    "# 实例化一个 similarity_score_threshold Retriever\n",
    "retriever = db.as_retriever(\n",
    "    search_type=\"similarity_score_threshold\",\n",
    "    search_kwargs={\"score_threshold\": 0.5}\n",
    ")"
   ]
  },
  {
   "cell_type": "code",
   "execution_count": 35,
   "id": "dbe20609",
   "metadata": {},
   "outputs": [
    {
     "name": "stdout",
     "output_type": "stream",
     "text": [
      "**[客户问题]**：水果的价格还可以再优惠一点吗？\n",
      "    **[销售回答]**：我们的价格已经是最优惠的了，而且我们提供的品质和服务绝对值得这个价格，您可以放心购买。\n",
      "\n",
      "**[客户问题]**：这个水果为什么这么贵？\n",
      "    **[销售回答]**：这个水果是从优质产地精挑细选的，而且运输和储存成本较高，价格虽然稍高，但品质绝对值得这个价格。\n",
      "\n",
      "**[客户问题]**：能不能尝一下？\n",
      "   **[销售回答]**：当然可以，我们这里有提供试吃，您可以先尝一下，满意再购买。\n",
      "\n",
      "**[客户问题]**：你们这里有没有优惠活动？\n",
      "    **[销售回答]**：我们经常会有各种优惠活动，比如节假日特价、会员专享折扣等，您可以关注我们的公众号或加入我们的会员，随时获取最新优惠信息。\n",
      "\n"
     ]
    }
   ],
   "source": [
    "docs = retriever.get_relevant_documents(query)\n",
    "for doc in docs:\n",
    "    print(doc.page_content + \"\\n\")"
   ]
  },
  {
   "cell_type": "code",
   "execution_count": null,
   "id": "8bb33102",
   "metadata": {},
   "outputs": [],
   "source": []
  },
  {
   "cell_type": "markdown",
   "id": "7ce6a5ce",
   "metadata": {},
   "source": [
    "### 提取向量数据库中的`销售回答`"
   ]
  },
  {
   "cell_type": "code",
   "execution_count": 51,
   "id": "6a5153c4",
   "metadata": {},
   "outputs": [],
   "source": [
    "docs = retriever.get_relevant_documents(query)"
   ]
  },
  {
   "cell_type": "code",
   "execution_count": 52,
   "id": "37c9364a",
   "metadata": {},
   "outputs": [
    {
     "data": {
      "text/plain": [
       "'**[客户问题]**：水果的价格还可以再优惠一点吗？\\n    **[销售回答]**：我们的价格已经是最优惠的了，而且我们提供的品质和服务绝对值得这个价格，您可以放心购买。'"
      ]
     },
     "execution_count": 52,
     "metadata": {},
     "output_type": "execute_result"
    }
   ],
   "source": [
    "docs[0].page_content"
   ]
  },
  {
   "cell_type": "code",
   "execution_count": 53,
   "id": "6bd7034a",
   "metadata": {},
   "outputs": [
    {
     "data": {
      "text/plain": [
       "['**[客户问题]**：水果的价格还可以再优惠一点吗？\\n    ',\n",
       " '我们的价格已经是最优惠的了，而且我们提供的品质和服务绝对值得这个价格，您可以放心购买。']"
      ]
     },
     "execution_count": 53,
     "metadata": {},
     "output_type": "execute_result"
    }
   ],
   "source": [
    "docs[0].page_content.split(\"**[销售回答]**：\")"
   ]
  },
  {
   "cell_type": "code",
   "execution_count": 54,
   "id": "6014c151",
   "metadata": {},
   "outputs": [],
   "source": [
    "ans = docs[0].page_content.split(\"**[销售回答]**：\")[-1]"
   ]
  },
  {
   "cell_type": "code",
   "execution_count": 55,
   "id": "45b8cf30",
   "metadata": {},
   "outputs": [
    {
     "data": {
      "text/plain": [
       "'我们的价格已经是最优惠的了，而且我们提供的品质和服务绝对值得这个价格，您可以放心购买。'"
      ]
     },
     "execution_count": 55,
     "metadata": {},
     "output_type": "execute_result"
    }
   ],
   "source": [
    "ans"
   ]
  },
  {
   "cell_type": "markdown",
   "id": "31dcbd04",
   "metadata": {},
   "source": [
    "#### 尝试各种问题"
   ]
  },
  {
   "cell_type": "code",
   "execution_count": 56,
   "id": "feb63d18",
   "metadata": {},
   "outputs": [],
   "source": [
    "from typing import List\n",
    "\n",
    "def sales(query: str, score_threshold: float=0.8) -> List[str]:\n",
    "    retriever = db.as_retriever(search_type=\"similarity_score_threshold\", search_kwargs={\"score_threshold\": score_threshold})    \n",
    "    docs = retriever.get_relevant_documents(query)\n",
    "    ans_list = [doc.page_content.split(\"**[销售回答]**：\")[-1] for doc in docs]\n",
    "\n",
    "    return ans_list"
   ]
  },
  {
   "cell_type": "code",
   "execution_count": 60,
   "id": "b65e78de",
   "metadata": {},
   "outputs": [
    {
     "name": "stdout",
     "output_type": "stream",
     "text": [
      "['这个水果是从优质产地精挑细选的，而且运输和储存成本较高，价格虽然稍高，但品质绝对值得这个价格。', '这个水果的口感非常好，甜而不腻，汁水丰富，非常适合直接食用。']\n"
     ]
    }
   ],
   "source": [
    "query = \"这个水果怎么卖？\"\n",
    "\n",
    "print(sales(query))"
   ]
  },
  {
   "cell_type": "code",
   "execution_count": 61,
   "id": "5db00896",
   "metadata": {},
   "outputs": [
    {
     "name": "stdout",
     "output_type": "stream",
     "text": [
      "['这个水果是从优质产地精挑细选的，而且运输和储存成本较高，价格虽然稍高，但品质绝对值得这个价格。', '这个水果的口感非常好，甜而不腻，汁水丰富，非常适合直接食用。']\n"
     ]
    }
   ],
   "source": [
    "print(sales(query, 0.8))"
   ]
  },
  {
   "cell_type": "code",
   "execution_count": 62,
   "id": "e312f7c8",
   "metadata": {},
   "outputs": [
    {
     "name": "stderr",
     "output_type": "stream",
     "text": [
      "D:\\software\\Miniconda\\Miniconda24.5.0\\envs\\ITATraining\\lib\\site-packages\\langchain_core\\vectorstores\\base.py:796: UserWarning: No relevant docs were retrieved using the relevance score threshold 0.8\n",
      "  warnings.warn(\n"
     ]
    },
    {
     "name": "stdout",
     "output_type": "stream",
     "text": [
      "score:0.8 ans: []\n",
      "\n"
     ]
    },
    {
     "name": "stderr",
     "output_type": "stream",
     "text": [
      "D:\\software\\Miniconda\\Miniconda24.5.0\\envs\\ITATraining\\lib\\site-packages\\langchain_core\\vectorstores\\base.py:796: UserWarning: No relevant docs were retrieved using the relevance score threshold 0.75\n",
      "  warnings.warn(\n"
     ]
    },
    {
     "name": "stdout",
     "output_type": "stream",
     "text": [
      "score:0.75 ans: []\n",
      "\n",
      "score:0.5 ans: ['我们的价格已经是最优惠的了，而且我们提供的品质和服务绝对值得这个价格，您可以放心购买。', '这个水果是从优质产地精挑细选的，而且运输和储存成本较高，价格虽然稍高，但品质绝对值得这个价格。', '当然可以，我们这里有提供试吃，您可以先尝一下，满意再购买。', '我们经常会有各种优惠活动，比如节假日特价、会员专享折扣等，您可以关注我们的公众号或加入我们的会员，随时获取最新优惠信息。']\n",
      "\n"
     ]
    }
   ],
   "source": [
    "query = \"价格200万以内\"\n",
    "\n",
    "print(f\"score:0.8 ans: {sales(query)}\\n\")\n",
    "print(f\"score:0.75 ans: {sales(query, 0.75)}\\n\")\n",
    "print(f\"score:0.5 ans: {sales(query, 0.5)}\\n\")"
   ]
  },
  {
   "cell_type": "markdown",
   "id": "994691d7",
   "metadata": {},
   "source": [
    "#### 当向量数据库中没有合适答案时，使用大语言模型能力"
   ]
  },
  {
   "cell_type": "code",
   "execution_count": 63,
   "id": "c282a094",
   "metadata": {},
   "outputs": [],
   "source": [
    "from langchain.chains import RetrievalQA\n",
    "from langchain_openai import ChatOpenAI\n",
    "\n",
    "llm = ChatOpenAI(model_name=\"gpt-4-1106-preview\", temperature=0.5)\n",
    "qa_chain = RetrievalQA.from_chain_type(llm,\n",
    "                                       retriever=db.as_retriever(search_type=\"similarity_score_threshold\",\n",
    "                                                                 search_kwargs={\"score_threshold\": 0.8}))"
   ]
  },
  {
   "cell_type": "code",
   "execution_count": 64,
   "id": "77130393",
   "metadata": {},
   "outputs": [
    {
     "name": "stderr",
     "output_type": "stream",
     "text": [
      "D:\\software\\Miniconda\\Miniconda24.5.0\\envs\\ITATraining\\lib\\site-packages\\langchain_core\\vectorstores\\base.py:796: UserWarning: No relevant docs were retrieved using the relevance score threshold 0.8\n",
      "  warnings.warn(\n"
     ]
    },
    {
     "data": {
      "text/plain": [
       "{'query': '你们小区有200万的房子吗？',\n",
       " 'result': \"I'm sorry, but as an AI language model, I don't have access to real-time data or information about housing prices in specific locations. If you're interested in purchasing a property, I would recommend checking real estate listings online, visiting a local real estate agency, or contacting property developers in the area you're interested in to get the most up-to-date information on available properties and their prices.\"}"
      ]
     },
     "execution_count": 64,
     "metadata": {},
     "output_type": "execute_result"
    }
   ],
   "source": [
    "qa_chain({\"query\": \"你们小区有200万的房子吗？\"})"
   ]
  },
  {
   "cell_type": "code",
   "execution_count": 65,
   "id": "f9a01ebc",
   "metadata": {},
   "outputs": [
    {
     "name": "stderr",
     "output_type": "stream",
     "text": [
      "D:\\software\\Miniconda\\Miniconda24.5.0\\envs\\ITATraining\\lib\\site-packages\\langchain_core\\vectorstores\\base.py:796: UserWarning: No relevant docs were retrieved using the relevance score threshold 0.8\n",
      "  warnings.warn(\n"
     ]
    },
    {
     "data": {
      "text/plain": [
       "{'query': '小区吵不吵',\n",
       " 'result': '\"小区吵不吵\" 这个问题我无法直接回答，因为这取决于具体的小区环境和个人感受。不同的小区有不同的噪音水平，有些可能靠近繁忙的道路或商业区，可能会比较吵；而有些可能位于较为安静的住宅区或者有良好的隔音措施，相对会比较安静。如果你想知道某个具体小区的噪音情况，可能需要询问那个小区的居民或者亲自去那里体验一下。'}"
      ]
     },
     "execution_count": 65,
     "metadata": {},
     "output_type": "execute_result"
    }
   ],
   "source": [
    "qa_chain({\"query\": \"小区吵不吵\"})"
   ]
  },
  {
   "cell_type": "code",
   "execution_count": 66,
   "id": "3fac1931",
   "metadata": {},
   "outputs": [
    {
     "name": "stdout",
     "output_type": "stream",
     "text": [
      "[]\n"
     ]
    },
    {
     "name": "stderr",
     "output_type": "stream",
     "text": [
      "D:\\software\\Miniconda\\Miniconda24.5.0\\envs\\ITATraining\\lib\\site-packages\\langchain_core\\vectorstores\\base.py:796: UserWarning: No relevant docs were retrieved using the relevance score threshold 0.8\n",
      "  warnings.warn(\n"
     ]
    }
   ],
   "source": [
    "print(sales(\"小区吵不吵\"))"
   ]
  },
  {
   "cell_type": "code",
   "execution_count": null,
   "id": "752b0463",
   "metadata": {},
   "outputs": [],
   "source": []
  },
  {
   "cell_type": "markdown",
   "id": "9bbcc462",
   "metadata": {},
   "source": [
    "## 加载 FAISS 向量数据库已有结果"
   ]
  },
  {
   "cell_type": "code",
   "execution_count": 68,
   "id": "f47cc9fe",
   "metadata": {},
   "outputs": [],
   "source": [
    "from langchain_openai import OpenAIEmbeddings\n",
    "from langchain.vectorstores import FAISS\n",
    "\n",
    "db = FAISS.load_local(\"real_estates_sale\", OpenAIEmbeddings(),allow_dangerous_deserialization=True)"
   ]
  },
  {
   "cell_type": "code",
   "execution_count": 72,
   "id": "eba8cdcb",
   "metadata": {},
   "outputs": [],
   "source": [
    "from langchain.chains import RetrievalQA\n",
    "from langchain.chat_models import ChatOpenAI\n",
    "\n",
    "llm = ChatOpenAI(model_name=\"gpt-4\", temperature=0.5)\n",
    "qa_chain = RetrievalQA.from_chain_type(llm,\n",
    "                                       retriever=db.as_retriever(search_type=\"similarity_score_threshold\",\n",
    "                                                                 search_kwargs={\"score_threshold\": 0.8}))"
   ]
  },
  {
   "cell_type": "code",
   "execution_count": 73,
   "id": "9bd549f0",
   "metadata": {},
   "outputs": [
    {
     "name": "stderr",
     "output_type": "stream",
     "text": [
      "D:\\software\\Miniconda\\Miniconda24.5.0\\envs\\ITATraining\\lib\\site-packages\\langchain_core\\vectorstores\\base.py:796: UserWarning: No relevant docs were retrieved using the relevance score threshold 0.8\n",
      "  warnings.warn(\n"
     ]
    },
    {
     "data": {
      "text/plain": [
       "{'query': '我想买别墅，你们有么',\n",
       " 'result': '对不起，作为一个人工智能，我无法提供购买别墅的服务。我主要用于提供信息和解答问题。如果你有关于别墅的问题，我会很乐意帮助你。'}"
      ]
     },
     "execution_count": 73,
     "metadata": {},
     "output_type": "execute_result"
    }
   ],
   "source": [
    "qa_chain({\"query\": \"我想买别墅，你们有么\"})"
   ]
  },
  {
   "cell_type": "code",
   "execution_count": 74,
   "id": "e5ff2f1b",
   "metadata": {},
   "outputs": [],
   "source": [
    "# 输出内部 Chain 的日志\n",
    "qa_chain.combine_documents_chain.verbose = True"
   ]
  },
  {
   "cell_type": "code",
   "execution_count": 75,
   "id": "bea388c1",
   "metadata": {},
   "outputs": [
    {
     "name": "stderr",
     "output_type": "stream",
     "text": [
      "D:\\software\\Miniconda\\Miniconda24.5.0\\envs\\ITATraining\\lib\\site-packages\\langchain_core\\vectorstores\\base.py:796: UserWarning: No relevant docs were retrieved using the relevance score threshold 0.8\n",
      "  warnings.warn(\n"
     ]
    },
    {
     "name": "stdout",
     "output_type": "stream",
     "text": [
      "\n",
      "\n",
      "\u001b[1m> Entering new StuffDocumentsChain chain...\u001b[0m\n",
      "\n",
      "\u001b[1m> Finished chain.\u001b[0m\n"
     ]
    },
    {
     "data": {
      "text/plain": [
       "{'query': '我想买别墅，你们有么',\n",
       " 'result': '对不起，我是一个人工智能助手，无法提供购买别墅的服务。我主要用来提供信息和解答问题。如果你有其他问题，我会尽力帮助你。'}"
      ]
     },
     "execution_count": 75,
     "metadata": {},
     "output_type": "execute_result"
    }
   ],
   "source": [
    "qa_chain({\"query\": \"我想买别墅，你们有么\"})"
   ]
  },
  {
   "cell_type": "code",
   "execution_count": 76,
   "id": "8ffc6b70",
   "metadata": {},
   "outputs": [],
   "source": [
    "# 返回向量数据库的检索结果\n",
    "qa_chain.return_source_documents = True"
   ]
  },
  {
   "cell_type": "code",
   "execution_count": 77,
   "id": "53349477",
   "metadata": {},
   "outputs": [
    {
     "name": "stderr",
     "output_type": "stream",
     "text": [
      "D:\\software\\Miniconda\\Miniconda24.5.0\\envs\\ITATraining\\lib\\site-packages\\langchain_core\\vectorstores\\base.py:796: UserWarning: No relevant docs were retrieved using the relevance score threshold 0.8\n",
      "  warnings.warn(\n"
     ]
    },
    {
     "name": "stdout",
     "output_type": "stream",
     "text": [
      "\n",
      "\n",
      "\u001b[1m> Entering new StuffDocumentsChain chain...\u001b[0m\n",
      "\n",
      "\u001b[1m> Finished chain.\u001b[0m\n"
     ]
    }
   ],
   "source": [
    "result = qa_chain({\"query\": \"我想买别墅，你们有么\"})"
   ]
  },
  {
   "cell_type": "code",
   "execution_count": 78,
   "id": "c2c998a9",
   "metadata": {},
   "outputs": [
    {
     "data": {
      "text/plain": [
       "{'query': '我想买别墅，你们有么',\n",
       " 'result': '对不起，作为一个AI，我无法提供购买别墅的服务。我建议你联系一个房地产经纪人或者搜索在线房地产平台以获取帮助。',\n",
       " 'source_documents': []}"
      ]
     },
     "execution_count": 78,
     "metadata": {},
     "output_type": "execute_result"
    }
   ],
   "source": [
    "result"
   ]
  },
  {
   "cell_type": "code",
   "execution_count": null,
   "id": "eb82b4d5",
   "metadata": {},
   "outputs": [],
   "source": []
  },
  {
   "cell_type": "code",
   "execution_count": null,
   "id": "0db20083-8247-4abf-9b4a-446d606dee0f",
   "metadata": {},
   "outputs": [],
   "source": []
  }
 ],
 "metadata": {
  "kernelspec": {
   "display_name": "Python 3 (ipykernel)",
   "language": "python",
   "name": "python3"
  },
  "language_info": {
   "codemirror_mode": {
    "name": "ipython",
    "version": 3
   },
   "file_extension": ".py",
   "mimetype": "text/x-python",
   "name": "python",
   "nbconvert_exporter": "python",
   "pygments_lexer": "ipython3",
   "version": "3.10.14"
  }
 },
 "nbformat": 4,
 "nbformat_minor": 5
}
