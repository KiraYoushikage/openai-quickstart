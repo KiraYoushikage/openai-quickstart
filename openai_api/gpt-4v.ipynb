{
 "cells": [
  {
   "cell_type": "markdown",
   "id": "b4b6a552-b7f0-433d-9a70-61c4fcc52d5d",
   "metadata": {},
   "source": [
    "# 快速入门 GPT-4 Vison\n",
    "\n",
    "从历史上看，语言模型系统仅接受**文本**作为输入。但是单一的输入形式，限制了大模型的应用落地范围。\n",
    "\n",
    "随着技术发展，OpenAI 开发的 GPT-4 Turbo with Vision（简称 GPT-4V）允许模型接收**图像**作为输入，并回答关于它们的问题。\n",
    "\n",
    "📢注意，目前在 Assistants API 中使用 GPT-4 时还不支持图像输入。"
   ]
  },
  {
   "cell_type": "markdown",
   "id": "1798ff2e-f162-40e7-90d7-68988df5df2b",
   "metadata": {},
   "source": [
    "import os\n",
    "\n",
    "os.environ['HTTP_PROXY'] = 'http://127.0.0.1:10810'\n",
    "os.environ['HTTPS_PROXY'] = 'http://127.0.0.1:10810'\n",
    "\n",
    "print(os.environ.get(\"OPENAI_API_KEY\"));"
   ]
  },
  {
   "cell_type": "markdown",
   "id": "3a701c56-0a2a-4dea-b458-234150b84ff2",
   "metadata": {},
   "source": [
    "## 使用 GPT-4V 识别线上图像（URL）\n",
    "\n",
    "![image_sample](https://upload.wikimedia.org/wikipedia/commons/thumb/d/dd/Gfp-wisconsin-madison-the-nature-boardwalk.jpg/2560px-Gfp-wisconsin-madison-the-nature-boardwalk.jpg)"
   ]
  },
  {
   "cell_type": "code",
   "execution_count": 14,
   "id": "bf8689b2-94f2-4a35-a332-9ffed0a56aca",
   "metadata": {},
   "outputs": [
    {
     "name": "stdout",
     "output_type": "stream",
     "text": [
      "Choice(finish_reason='stop', index=0, logprobs=None, message=ChatCompletionMessage(content='这幅图显示了一个自然景观，其中主要特色是一条穿过绿色草地的木板路。图中的草地呈现出鲜明的绿色，周围布满了各种草本植物和灌木，展现出一片生机勃勃的景象。天空中有蓝色的天空和点缀的白云，增添了一种宁静和平和的氛围。这条木板路似乎引导着观者进入更深入的自然探索之旅，引人思考这条路可能通向何处。整体上，这是一幅展示自然之美与人工建设和谐共存的美丽图画。', role='assistant', function_call=None, tool_calls=None))\n"
     ]
    }
   ],
   "source": [
    "from openai import OpenAI\n",
    "\n",
    "client = OpenAI()\n",
    "\n",
    "response = client.chat.completions.create(\n",
    "  model=\"gpt-4-turbo\",\n",
    "  messages=[\n",
    "    {\n",
    "      \"role\": \"user\",\n",
    "      \"content\": [\n",
    "        {\"type\": \"text\", \"text\": \"介绍下这幅图?\"},\n",
    "        {\n",
    "          \"type\": \"image_url\",\n",
    "          \"image_url\": {\n",
    "            \"url\": \"https://upload.wikimedia.org/wikipedia/commons/thumb/d/dd/Gfp-wisconsin-madison-the-nature-boardwalk.jpg/2560px-Gfp-wisconsin-madison-the-nature-boardwalk.jpg\",\n",
    "          },\n",
    "        },\n",
    "      ],\n",
    "    }\n",
    "  ],\n",
    "  max_tokens=300,\n",
    ")\n",
    "\n",
    "print(response.choices[0])"
   ]
  },
  {
   "cell_type": "code",
   "execution_count": 15,
   "id": "9bcc9026-7485-428f-8269-ea9ae41405cb",
   "metadata": {},
   "outputs": [
    {
     "data": {
      "text/plain": [
       "'这幅图显示了一个自然景观，其中主要特色是一条穿过绿色草地的木板路。图中的草地呈现出鲜明的绿色，周围布满了各种草本植物和灌木，展现出一片生机勃勃的景象。天空中有蓝色的天空和点缀的白云，增添了一种宁静和平和的氛围。这条木板路似乎引导着观者进入更深入的自然探索之旅，引人思考这条路可能通向何处。整体上，这是一幅展示自然之美与人工建设和谐共存的美丽图画。'"
      ]
     },
     "execution_count": 15,
     "metadata": {},
     "output_type": "execute_result"
    }
   ],
   "source": [
    "response.choices[0].message.content"
   ]
  },
  {
   "cell_type": "markdown",
   "id": "7fb50a14-fa14-4c63-9f81-b98b0f65d9d9",
   "metadata": {},
   "source": [
    "### 封装成一个函数 query_image_description"
   ]
  },
  {
   "cell_type": "code",
   "execution_count": 16,
   "id": "c1ca5428-c7e1-4d7e-91f1-d4a05e95ac51",
   "metadata": {},
   "outputs": [],
   "source": [
    "def query_image_description(url, prompt=\"介绍下这幅图?\"):\n",
    "    client = OpenAI()  # 初始化 OpenAI 客户端\n",
    "    \n",
    "    # 发送请求给 OpenAI 的聊天模型\n",
    "    response = client.chat.completions.create(\n",
    "        model=\"gpt-4-turbo\",  # 指定使用的模型\n",
    "        messages=[\n",
    "            {\n",
    "                \"role\": \"user\",\n",
    "                \"content\": [\n",
    "                    {\"type\": \"text\", \"text\": prompt},\n",
    "                    {\"type\": \"image_url\", \"image_url\": {\"url\": url}},\n",
    "                ],\n",
    "            }\n",
    "        ],\n",
    "        max_tokens=300,\n",
    "    )\n",
    "    \n",
    "    # 返回模型的响应\n",
    "    return response.choices[0].message.content\n"
   ]
  },
  {
   "cell_type": "markdown",
   "id": "a0d0aceb-7cc5-4da1-b6db-e47716ba145a",
   "metadata": {},
   "source": [
    "### 调用函数测试\n",
    "\n",
    "![meme_0](https://p6.itc.cn/q_70/images03/20200602/0c267a0d3d814c9783659eb956969ba1.jpeg)"
   ]
  },
  {
   "cell_type": "code",
   "execution_count": 17,
   "id": "454abb5c-49d3-42e6-867e-f44e25af5e0e",
   "metadata": {},
   "outputs": [
    {
     "name": "stdout",
     "output_type": "stream",
     "text": [
      "这幅图显示的是两个卡通形象，它们将狗的头部与人类的身体进行了合成。左边的形象是一只拥有巨大肌肉的狗，右边则是普通体型的狗坐着。图中还包含了一些文字，对比了这两种不同状态的壮硕程度和其他特征。\n",
      "\n",
      "左侧的狗被称为“16岁的我”，伴随着文字“我刚适应一片光明，关系网通，人情世故的大神”，描绘了一个在年轻时候无比强大和无忧无虑的形象。\n",
      "\n",
      "右边的狗被称为“工作后的我”，其描述为“好累啊，好想摸摸你”，显示了一个工作后感到疲惫和需要慰藉的状态。“我不行你忽悠我，我行也别指望我”，传达了在职场上的压力和对自身能力的认识。\n",
      "\n",
      "整体来\n"
     ]
    }
   ],
   "source": [
    "image_url = \"https://p6.itc.cn/q_70/images03/20200602/0c267a0d3d814c9783659eb956969ba1.jpeg\"\n",
    "content = query_image_description(image_url)\n",
    "print(content)"
   ]
  },
  {
   "cell_type": "code",
   "execution_count": null,
   "id": "2471306a-84e2-4793-b065-0741fbe57262",
   "metadata": {},
   "outputs": [],
   "source": []
  },
  {
   "cell_type": "code",
   "execution_count": null,
   "id": "af79850f-83b5-49c4-a3f3-f2c01a28f458",
   "metadata": {},
   "outputs": [],
   "source": []
  },
  {
   "cell_type": "markdown",
   "id": "63ae05bd-872c-4638-8259-df4f420aaa1d",
   "metadata": {},
   "source": [
    "### 使用 GPT-4V 识别本地图像文件（Base64编码）\n"
   ]
  },
  {
   "cell_type": "code",
   "execution_count": 18,
   "id": "1e83da68-d387-46da-8236-78fc607d1fab",
   "metadata": {},
   "outputs": [],
   "source": [
    "from openai import OpenAI\n",
    "import base64\n",
    "import requests\n",
    "import json\n",
    "\n",
    "client = OpenAI()  # 初始化 OpenAI 客户端\n",
    "\n",
    "def query_base64_image_description(image_path, prompt=\"解释下图里的内容？\", max_tokens=1000):\n",
    "\n",
    "    # 实现 Base64 编码\n",
    "    def encode_image(path):\n",
    "        with open(path, \"rb\") as image_file:\n",
    "            return base64.b64encode(image_file.read()).decode('utf-8')\n",
    "\n",
    "    # 获取图像的 Base64 编码字符串\n",
    "    base64_image = encode_image(image_path)\n",
    "\n",
    "    # 构造请求的 HTTP Header\n",
    "    headers = {\n",
    "        \"Content-Type\": \"application/json\",\n",
    "        \"Authorization\": f\"Bearer {client.api_key}\"\n",
    "    }\n",
    "\n",
    "    # 构造请求的负载\n",
    "    payload = {\n",
    "        \"model\": \"gpt-4-turbo\",\n",
    "        \"messages\": [\n",
    "            {\n",
    "                \"role\": \"user\",\n",
    "                \"content\": [\n",
    "                    {\"type\": \"text\", \"text\": prompt},\n",
    "                    {\"type\": \"image_url\", \"image_url\": {\"url\": f\"data:image/jpeg;base64,{base64_image}\"}}\n",
    "                ]\n",
    "            }\n",
    "        ],\n",
    "        \"max_tokens\": max_tokens\n",
    "    }\n",
    "\n",
    "    # 发送 HTTP 请求\n",
    "    response = requests.post(\"https://api.openai.com/v1/chat/completions\", headers=headers, json=payload)\n",
    "\n",
    "    # 检查响应并提取所需的 content 字段\n",
    "    if response.status_code == 200:\n",
    "        response_data = response.json()\n",
    "        content = response_data['choices'][0]['message']['content']\n",
    "        return content\n",
    "    else:\n",
    "        return f\"Error: {response.status_code}, {response.text}\""
   ]
  },
  {
   "cell_type": "markdown",
   "id": "89dd0f99-8086-473f-80a4-497e6dd07c17",
   "metadata": {},
   "source": [
    "#### 使用 Assistants API生成的 GDP 40年对比曲线图\n",
    "\n",
    "![gdp_data](./images/gdp_1980_2020.jpg)"
   ]
  },
  {
   "cell_type": "code",
   "execution_count": 19,
   "id": "3c0e9063-e8d9-4bc1-ae60-ad0aa5bee32b",
   "metadata": {},
   "outputs": [
    {
     "name": "stdout",
     "output_type": "stream",
     "text": [
      "这张图展示了从1980年到2020年美国、中国、日本和德国的国内生产总值（GDP）对比。图中，不同的线条代表了各国的GDP走势：\n",
      "\n",
      "- 蓝色线代表美国，我们可以看到其GDP增长相对平稳且持续增长。\n",
      "- 红色线代表中国，中国的GDP从1990年代末开始显著增长，并在后期显示出迅猛的增速。\n",
      "- 紫色线代表日本，日本的GDP在1990年左右达到高峰后，呈现较为平稳或略有下跌的趋势。\n",
      "- 绿色线代表德国，其GDP增长较为平稳，总体增长幅度较小。\n",
      "\n",
      "此图有效地展示了这四个主要经济体在过去四十年间的经济增长情况。\n"
     ]
    }
   ],
   "source": [
    "content = query_base64_image_description(\"./images/gdp_1980_2020.jpg\")\n",
    "print(content)"
   ]
  },
  {
   "cell_type": "markdown",
   "id": "6d18b227-32a6-4450-86bd-c99ad5c533b9",
   "metadata": {},
   "source": [
    "#### 使用 GPT-4V 识别手写体笔记\n",
    "\n",
    "![](./images/handwriting_0.jpg)"
   ]
  },
  {
   "cell_type": "code",
   "execution_count": 20,
   "id": "4193fa11-5edd-404c-9472-0cb8cc6799fc",
   "metadata": {},
   "outputs": [
    {
     "name": "stdout",
     "output_type": "stream",
     "text": [
      "这张图片中显示的是一张笔记本的一页，记录了关于深度学习模型优化技术的内容。主要内容包括：\n",
      "\n",
      "1. **Prompt Tuning (FMT & Small Model)**: 提到使用了Prompt Tuning技术，适用于小型模型，通过调整input embeddings的方式，即在原始输入序列（\\[X_1, X_2, ..., X_n\\]）前添加一些token来指导模型学习。\n",
      "\n",
      "2. **Prefix Tuning**: 是另一种参数调整技术，其中调整的是Transformer模型的一部分权重W，通过分离出可训练的前缀权重 \\(W_p\\) 与不变的权重 \\(W\\) 来优化模型。\n",
      "\n",
      "3. **LoRA (Low-Rank Adaptation)**: 记录了一种名为LoRA的微调技术，该方法通过添加低秩矩阵 \\(\\Delta W\\) 来调整原始权重矩阵 \\(W\\)，从而达到提升模型性能与减小训练成本的目的。\n",
      "\n",
      "4. 末尾还提到了关于LoRA的一些实验结果，如使用LoRA模型的内存需求量等，如“LAMA-65GB 使用LoRA-78GB” 和 “QLORA使用的内存为48GB”。\n",
      "\n",
      "这些笔记说明作者在研究和应用深度学习的参数微调技术，特别是在NLP和transformer模型上的应用。\n"
     ]
    }
   ],
   "source": [
    "content = query_base64_image_description(\"./images/handwriting_0.jpg\")\n",
    "print(content)"
   ]
  },
  {
   "cell_type": "markdown",
   "id": "ca046601-018c-455c-ace2-41392cbda456",
   "metadata": {},
   "source": [
    "#### 在 Jupyter 标准输出中渲染 Markdown 格式内容"
   ]
  },
  {
   "cell_type": "code",
   "execution_count": 21,
   "id": "516ee35b-1337-4b22-aea2-ee0adb706098",
   "metadata": {},
   "outputs": [
    {
     "data": {
      "text/markdown": [
       "这张图片中显示的是一张笔记本的一页，记录了关于深度学习模型优化技术的内容。主要内容包括：\n",
       "\n",
       "1. **Prompt Tuning (FMT & Small Model)**: 提到使用了Prompt Tuning技术，适用于小型模型，通过调整input embeddings的方式，即在原始输入序列（\\[X_1, X_2, ..., X_n\\]）前添加一些token来指导模型学习。\n",
       "\n",
       "2. **Prefix Tuning**: 是另一种参数调整技术，其中调整的是Transformer模型的一部分权重W，通过分离出可训练的前缀权重 \\(W_p\\) 与不变的权重 \\(W\\) 来优化模型。\n",
       "\n",
       "3. **LoRA (Low-Rank Adaptation)**: 记录了一种名为LoRA的微调技术，该方法通过添加低秩矩阵 \\(\\Delta W\\) 来调整原始权重矩阵 \\(W\\)，从而达到提升模型性能与减小训练成本的目的。\n",
       "\n",
       "4. 末尾还提到了关于LoRA的一些实验结果，如使用LoRA模型的内存需求量等，如“LAMA-65GB 使用LoRA-78GB” 和 “QLORA使用的内存为48GB”。\n",
       "\n",
       "这些笔记说明作者在研究和应用深度学习的参数微调技术，特别是在NLP和transformer模型上的应用。"
      ],
      "text/plain": [
       "<IPython.core.display.Markdown object>"
      ]
     },
     "metadata": {},
     "output_type": "display_data"
    }
   ],
   "source": [
    "from IPython.display import display, Markdown\n",
    "\n",
    "# 使用 display 和 Markdown 函数显示 Markdown 内容\n",
    "display(Markdown(content))"
   ]
  },
  {
   "cell_type": "markdown",
   "id": "b72ebbe3-87cc-4867-9cf0-62e5ed684482",
   "metadata": {},
   "source": [
    "![](./images/handwriting_1.jpg)"
   ]
  },
  {
   "cell_type": "code",
   "execution_count": 22,
   "id": "7c046958-aa7a-4066-88fa-4134869d9226",
   "metadata": {},
   "outputs": [
    {
     "data": {
      "text/markdown": [
       "这张图片显示的是一本笔记本上的笔记内容，主要围绕自然语言处理（NLP）及其技术特别是变压器（Transformers）模型的训练和优化策略。笔记包含了以下几个部分：\n",
       "\n",
       "1. **左侧**\n",
       "    - **标题“自然语言理解”和“条件文本生成”**：这个部分展示了笔记的主题是关于NLP的两个主要领域，即理解和生成。\n",
       "    - **PEFT/SOTA, PBFT Methods**：PEFT可能是指针对特定任务的前沿技术指标（State Of The Art），PBFT可能是指基于这些指标的方法。\n",
       "    - **Prompt Tuning, Adapter, Prefix, P-Tuning V1/V2**等词条涉及到模型优化和调整的多种技术。这些技术主要用来在不大幅度改变整个模型结构的情况下，通过微调来适应特定的任务或改进性能。\n",
       "    - **LAN、GPT, XLHF, ChatGPT, BLOOM,等**：这些都是大型语言模型，用于多种NLP任务。\n",
       "\n",
       "2. **右侧**\n",
       "    - **多模态指令微调：Llama (3B)** 和 **LoRA, GLORa, AdapterA**等技术名词，这部分笔记看起来是关于多种技术的集成和比较。\n",
       "    - **Refine oh in LLMs** 和其下的技术细节描述了LLM（大型语言模型）如何进行精细化处理的技术。\n",
       "    - **MAM Adapters** 和 **Scaled parallel adapter** 提到了一种可能的新方法或模型架构调整。\n",
       "\n",
       "笔记详细地记录了多种最新的NLP模型优化技术和方法，旨在探索和比较它们在不同方面的应用和效果。这些笔记可以帮助研究者保持对前沿技术的最新理解，并应用于实际的机器学习项目和研究之中。"
      ],
      "text/plain": [
       "<IPython.core.display.Markdown object>"
      ]
     },
     "metadata": {},
     "output_type": "display_data"
    }
   ],
   "source": [
    "content = query_base64_image_description(\"./images/handwriting_1.jpg\")\n",
    "display(Markdown(content))"
   ]
  },
  {
   "cell_type": "markdown",
   "id": "37a25254-2597-4ec9-a84f-457b69a7eec6",
   "metadata": {},
   "source": [
    "## Homework: \n",
    "\n",
    "\n",
    "### #1\n",
    "\n",
    "使用 GPT-4V 识别带有手写体文字的本地图像文件，分享结果。"
   ]
  },
  {
   "cell_type": "code",
   "execution_count": 24,
   "id": "e3bd772f-9492-4f6c-b05a-666b772ca3c9",
   "metadata": {},
   "outputs": [
    {
     "name": "stdout",
     "output_type": "stream",
     "text": [
      "这段文字的中心思想是关于知识和智慧的重要性，以及它们对于解决问题和应对挑战的帮助。全文可以理解为强调了通过阅读和学习，我们可以获得无形的力量，有助于提高个人修养，更好地理解和处理世界上的复杂问题。此外，还传达了知识因被学习而生效，被应用而显其价值的观点。\n"
     ]
    }
   ],
   "source": [
    "content = query_base64_image_description(image_path=\"./images/handwriting_2.jpg\",prompt=\"请给我这张图片上的句子想表达什么中心思想。\")\n",
    "print(content)"
   ]
  },
  {
   "cell_type": "markdown",
   "id": "1365f438-4ef7-47b9-a80f-a32f2dc21b8b",
   "metadata": {},
   "source": [
    "### #2\n",
    "\n",
    "整合 `query_base64_image_description` 函数和 Markdown 格式渲染方法，使得输出结果更易阅读。"
   ]
  },
  {
   "cell_type": "code",
   "execution_count": 25,
   "id": "a1e9670b-88e8-4c3b-9e9e-baf025a428f7",
   "metadata": {},
   "outputs": [
    {
     "data": {
      "text/markdown": [
       "这句话的中心思想是在表达珍惜时光、努力生活的重要性。文字翻译为“珍惜当下这个快乐满足的时光，不要让岁月荒废，让自己被时间推着走。”这表达了一个对时间的积极态度，鼓励人们要珍惜眼前的幸福时光，不要被消极的思想和懈怠的行为所影响，要主动地利用和珍视时间。"
      ],
      "text/plain": [
       "<IPython.core.display.Markdown object>"
      ]
     },
     "metadata": {},
     "output_type": "display_data"
    }
   ],
   "source": [
    "\n",
    "content = query_base64_image_description(image_path=\"./images/handwriting_2.jpg\",prompt=\"请给我这张图片上的句子想表达什么中心思想。\")\n",
    "display(Markdown(content))\n"
   ]
  },
  {
   "cell_type": "code",
   "execution_count": null,
   "id": "0909bf27-9c4a-498c-9fae-0f442062b9a8",
   "metadata": {},
   "outputs": [],
   "source": []
  },
  {
   "cell_type": "code",
   "execution_count": null,
   "id": "e40876d5-850e-4fa2-9ec8-71032a9543e4",
   "metadata": {},
   "outputs": [],
   "source": []
  }
 ],
 "metadata": {
  "kernelspec": {
   "display_name": "Python 3 (ipykernel)",
   "language": "python",
   "name": "python3"
  },
  "language_info": {
   "codemirror_mode": {
    "name": "ipython",
    "version": 3
   },
   "file_extension": ".py",
   "mimetype": "text/x-python",
   "name": "python",
   "nbconvert_exporter": "python",
   "pygments_lexer": "ipython3",
   "version": "3.10.14"
  }
 },
 "nbformat": 4,
 "nbformat_minor": 5
}
